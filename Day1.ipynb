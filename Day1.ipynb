{
  "nbformat": 4,
  "nbformat_minor": 0,
  "metadata": {
    "colab": {
      "provenance": []
    },
    "kernelspec": {
      "name": "python3",
      "display_name": "Python 3"
    },
    "language_info": {
      "name": "python"
    }
  },
  "cells": [
    {
      "cell_type": "markdown",
      "source": [
        "Basic syntax rules"
      ],
      "metadata": {
        "id": "xLliWWZw7fzd"
      }
    },
    {
      "cell_type": "code",
      "source": [
        "print(\"Hello,world!\")\n",
        "x = 5\n",
        "y = 10"
      ],
      "metadata": {
        "colab": {
          "base_uri": "https://localhost:8080/"
        },
        "id": "KuUWe6-t74JC",
        "outputId": "32355d67-648c-48e3-aa0e-45ecc4f0647f"
      },
      "execution_count": null,
      "outputs": [
        {
          "output_type": "stream",
          "name": "stdout",
          "text": [
            "Hello,world!\n"
          ]
        }
      ]
    },
    {
      "cell_type": "markdown",
      "source": [
        "Python is case-sensitive"
      ],
      "metadata": {
        "id": "Ii2vJYSc8N-O"
      }
    },
    {
      "cell_type": "code",
      "source": [
        "Name = \"John\"\n",
        "name = \"jane\"\n",
        "print(Name,name)"
      ],
      "metadata": {
        "colab": {
          "base_uri": "https://localhost:8080/"
        },
        "id": "wD2161Ci8UId",
        "outputId": "2dfb8ba5-371a-4a1a-b215-98c7289e85eb"
      },
      "execution_count": null,
      "outputs": [
        {
          "output_type": "stream",
          "name": "stdout",
          "text": [
            "John jane\n"
          ]
        }
      ]
    },
    {
      "cell_type": "markdown",
      "source": [
        "Indentation matters"
      ],
      "metadata": {
        "id": "0vXB9NfL8kfe"
      }
    },
    {
      "cell_type": "code",
      "source": [
        "if x > 0:\n",
        "  print(\"x is positive\")\n",
        "  print(\"this is inside the  if block\")"
      ],
      "metadata": {
        "colab": {
          "base_uri": "https://localhost:8080/"
        },
        "id": "MPdj64vj8pGv",
        "outputId": "025ddf13-3b25-4650-a7d2-14221033ad74"
      },
      "execution_count": null,
      "outputs": [
        {
          "output_type": "stream",
          "name": "stdout",
          "text": [
            "x is positive\n",
            "this is inside the  if block\n"
          ]
        }
      ]
    },
    {
      "cell_type": "markdown",
      "source": [
        "Variable & Data Types"
      ],
      "metadata": {
        "id": "pxKoCqaB9Ecf"
      }
    },
    {
      "cell_type": "markdown",
      "source": [
        "Numeric Type"
      ],
      "metadata": {
        "id": "WM29AE7P-DVw"
      }
    },
    {
      "cell_type": "code",
      "source": [
        "age = 20\n",
        "height = 6.2\n",
        "complex_num = 3  + 4j"
      ],
      "metadata": {
        "id": "OjTTCX1F9K-K"
      },
      "execution_count": null,
      "outputs": []
    },
    {
      "cell_type": "markdown",
      "source": [
        "String Type"
      ],
      "metadata": {
        "id": "GxUs1PxO-IF4"
      }
    },
    {
      "cell_type": "code",
      "source": [
        "name = \"Altamash\"\n",
        "message = \"my world\"\n",
        "multiline = \"\"\"this is a\n",
        "multiline string\"\"\""
      ],
      "metadata": {
        "id": "rw5gs6Dn-MCI"
      },
      "execution_count": null,
      "outputs": []
    },
    {
      "cell_type": "markdown",
      "source": [
        "Boolean Type"
      ],
      "metadata": {
        "id": "8GnKQEyo_E-f"
      }
    },
    {
      "cell_type": "code",
      "source": [
        "is_active = True\n",
        "is_finished = False"
      ],
      "metadata": {
        "id": "eU_OTRlD_MVQ"
      },
      "execution_count": null,
      "outputs": []
    },
    {
      "cell_type": "markdown",
      "source": [
        "Type Checking"
      ],
      "metadata": {
        "id": "AVwfqfSL_W4s"
      }
    },
    {
      "cell_type": "code",
      "source": [
        "print(type(age))\n",
        "print(type(height))\n",
        "print(type(name))"
      ],
      "metadata": {
        "colab": {
          "base_uri": "https://localhost:8080/"
        },
        "id": "RtsVwU4B_snq",
        "outputId": "21d5fb3b-2fdd-41e7-b7e1-8b6b4ba4ab16"
      },
      "execution_count": null,
      "outputs": [
        {
          "output_type": "stream",
          "name": "stdout",
          "text": [
            "<class 'int'>\n",
            "<class 'float'>\n",
            "<class 'str'>\n"
          ]
        }
      ]
    },
    {
      "cell_type": "markdown",
      "source": [
        "Type Conversion"
      ],
      "metadata": {
        "id": "zyS9CXgBAEMp"
      }
    },
    {
      "cell_type": "code",
      "source": [
        "str_number = \"123\"\n",
        "int_number = int(str_number)\n",
        "float_number = float(str_number)\n",
        "\n",
        "print(f\"Original: {str_number} (type: {type(str_number)})\")\n",
        "print(f\"Intrger: {int_number} (type: {type(int_number)})\")\n",
        "print(f\"Float: {float_number} (type: {type(float_number)})\")"
      ],
      "metadata": {
        "colab": {
          "base_uri": "https://localhost:8080/"
        },
        "id": "95P6M_lYAKdl",
        "outputId": "ae0a3a42-746a-49e4-fee7-a85071191b9c"
      },
      "execution_count": null,
      "outputs": [
        {
          "output_type": "stream",
          "name": "stdout",
          "text": [
            "Original: 123 (type: <class 'str'>)\n",
            "Intrger: 123 (type: <class 'int'>)\n",
            "Float: 123.0 (type: <class 'float'>)\n"
          ]
        }
      ]
    },
    {
      "cell_type": "markdown",
      "source": [
        "Hands-on Exercise:"
      ],
      "metadata": {
        "id": "v24s2Hf3B79x"
      }
    },
    {
      "cell_type": "markdown",
      "source": [
        "Exercise 1: Personal Information"
      ],
      "metadata": {
        "id": "r3B8E5qLCGAX"
      }
    },
    {
      "cell_type": "markdown",
      "source": [
        "Create variable for personal information"
      ],
      "metadata": {
        "id": "mtLnfb5DCaxY"
      }
    },
    {
      "cell_type": "code",
      "source": [
        "first_name = \"Your First Name\"\n",
        "last_name = \"Your Last Name\"\n",
        "age = 25\n",
        "height = 5.8\n",
        "is_student = True\n",
        "\n"
      ],
      "metadata": {
        "id": "tYnjPxLVCjIN"
      },
      "execution_count": null,
      "outputs": []
    },
    {
      "cell_type": "markdown",
      "source": [
        "Print formatted information"
      ],
      "metadata": {
        "id": "FUW82O99ECvc"
      }
    },
    {
      "cell_type": "code",
      "source": [
        "print(f\"Name: {first_name} {last_name}\")\n",
        "print(f\"Age: {age}\")\n",
        "print(f\"Height: {height} feet\")\n",
        "print(f\"Student: {is_student}\")"
      ],
      "metadata": {
        "colab": {
          "base_uri": "https://localhost:8080/"
        },
        "id": "aNPs7QfIETKE",
        "outputId": "1ab910ca-1409-4f2c-941e-e279af0a422b"
      },
      "execution_count": null,
      "outputs": [
        {
          "output_type": "stream",
          "name": "stdout",
          "text": [
            "Name: Your First Name Your Last Name\n",
            "Age: 25\n",
            "Height: 5.8 feet\n",
            "Student: True\n"
          ]
        }
      ]
    },
    {
      "cell_type": "markdown",
      "source": [
        "Type Conversion"
      ],
      "metadata": {
        "id": "EOODHzUoLdrw"
      }
    },
    {
      "cell_type": "code",
      "source": [
        "age_str = str(age)\n",
        "height_int= int(height)\n",
        "print(f\"Age as string: {age_str}\")\n",
        "print(f\"Height as integer: {height_int}\")"
      ],
      "metadata": {
        "colab": {
          "base_uri": "https://localhost:8080/"
        },
        "id": "EszTIlyDLhsu",
        "outputId": "57f46832-c11f-472c-ee9e-b32ac9a28019"
      },
      "execution_count": null,
      "outputs": [
        {
          "output_type": "stream",
          "name": "stdout",
          "text": [
            "Age as string: 25\n",
            "Height as integer: 5\n"
          ]
        }
      ]
    },
    {
      "cell_type": "markdown",
      "source": [
        "opetation & Basic Operations"
      ],
      "metadata": {
        "id": "UBYnvcSEMPAF"
      }
    },
    {
      "cell_type": "markdown",
      "source": [
        "Arithmeric Opretions"
      ],
      "metadata": {
        "id": "4lzZmqxDMaFW"
      }
    },
    {
      "cell_type": "code",
      "source": [
        "a = 20\n",
        "b = 2\n",
        "print(f\"Add: {a} + {b} = {a + b}\")\n",
        "print(f\"sub: {a} - {b} = {a - b}\")\n",
        "print(f\"mul: {a} * {b} = {a * b}\")\n",
        "print(f\"Add: {a} / {b} = {a / b}\")\n",
        "print(f\"Add: {a} % {b} = {a % b}\")\n"
      ],
      "metadata": {
        "colab": {
          "base_uri": "https://localhost:8080/"
        },
        "id": "PIiORMo7MfwW",
        "outputId": "7715481b-cccd-484a-f08f-2cb55a339577"
      },
      "execution_count": null,
      "outputs": [
        {
          "output_type": "stream",
          "name": "stdout",
          "text": [
            "Add: 20 + 2 = 22\n",
            "sub: 20 - 2 = 18\n",
            "mul: 20 * 2 = 40\n",
            "Add: 20 / 2 = 10.0\n",
            "Add: 20 % 2 = 0\n"
          ]
        }
      ]
    },
    {
      "cell_type": "markdown",
      "source": [
        "Order of opetations(PEMDAS)"
      ],
      "metadata": {
        "id": "g2f3jUzXNV-P"
      }
    },
    {
      "cell_type": "markdown",
      "source": [
        "\n",
        "\n",
        "\n",
        "*   P - p - Parentheses\n",
        "*  E - Exponents\n",
        "*  M - Multiplication\n",
        "*   D - Division\n",
        "* A - Addition\n",
        "*  S - Subtraction\n",
        "\n",
        "\n",
        "\n"
      ],
      "metadata": {
        "id": "kfXeGF9pNjBS"
      }
    },
    {
      "cell_type": "code",
      "source": [
        "result = 2 + 3 * 4** 2 - 1\n",
        "print(f\"2 + 3 * 4** 2 - 1 = {result}\")"
      ],
      "metadata": {
        "colab": {
          "base_uri": "https://localhost:8080/"
        },
        "id": "LWhzpUVUOiuF",
        "outputId": "9559ba18-8732-4a72-ae93-ba83cef5f01f"
      },
      "execution_count": null,
      "outputs": [
        {
          "output_type": "stream",
          "name": "stdout",
          "text": [
            "2 + 3 * 4** 2 - 1 = 49\n"
          ]
        }
      ]
    },
    {
      "cell_type": "markdown",
      "source": [
        "Relation Operators (or) Comparison"
      ],
      "metadata": {
        "id": "OSDnB4lUO7JJ"
      }
    },
    {
      "cell_type": "code",
      "source": [
        "x = 5\n",
        "y = 10\n",
        "\n",
        "print(f\"{x} == {y}: {x == y}\")\n",
        "print(f\"{x} != {y}: {x != y}\")\n",
        "print(f\"{x} < {y}: {x < y}\")\n",
        "print(f\"{x} > {y}: {x > y}\")\n",
        "print(f\"{x} <= {y}: {x <= y}\")\n",
        "print(f\"{x} >= {y}: {x >= y}\")\n"
      ],
      "metadata": {
        "colab": {
          "base_uri": "https://localhost:8080/"
        },
        "id": "r6OjqiKwPFyD",
        "outputId": "8be2b27e-b56c-4554-fd7a-afe06d28c288"
      },
      "execution_count": null,
      "outputs": [
        {
          "output_type": "stream",
          "name": "stdout",
          "text": [
            "5 == 10: False\n",
            "5 != 10: True\n",
            "5 < 10: True\n",
            "5 > 10: False\n",
            "5 <= 10: True\n",
            "5 >= 10: False\n"
          ]
        }
      ]
    },
    {
      "cell_type": "markdown",
      "source": [
        "String Comparison"
      ],
      "metadata": {
        "id": "LXy_lpaqQDcK"
      }
    },
    {
      "cell_type": "code",
      "source": [
        "name1 = \"Altu\"\n",
        "name2 = \"Sabrin\"\n",
        "print(f\"'{name1}' < '{name2}': {name1 < name2}\")"
      ],
      "metadata": {
        "colab": {
          "base_uri": "https://localhost:8080/"
        },
        "id": "o9I2iYtiQBcs",
        "outputId": "33b8d602-4e9a-4475-a0b5-bdf9f345e131"
      },
      "execution_count": null,
      "outputs": [
        {
          "output_type": "stream",
          "name": "stdout",
          "text": [
            "'Altu' < 'Sabrin': True\n"
          ]
        }
      ]
    },
    {
      "cell_type": "markdown",
      "source": [
        "Logical Operators"
      ],
      "metadata": {
        "id": "eaxlBeBlQ8dM"
      }
    },
    {
      "cell_type": "code",
      "source": [
        "p = True\n",
        "q = False\n",
        "\n",
        "print(f\"p and q: {p and q}\")\n",
        "print(f\"p or q: {p or q}\")\n",
        "print(f\"not p: {not p}\")\n"
      ],
      "metadata": {
        "colab": {
          "base_uri": "https://localhost:8080/"
        },
        "id": "iyNdOBC1RCz4",
        "outputId": "9e50a837-db19-43e2-ba7e-7dbc8ba704c9"
      },
      "execution_count": null,
      "outputs": [
        {
          "output_type": "stream",
          "name": "stdout",
          "text": [
            "p and q: False\n",
            "p or q: True\n",
            "not p: False\n"
          ]
        }
      ]
    },
    {
      "cell_type": "code",
      "source": [
        "#practical example\n",
        "age = 20\n",
        "has_license = True\n",
        "can_drive = age >= 18 and has_license\n",
        "print(f\"Can drive: {can_drive}\")"
      ],
      "metadata": {
        "colab": {
          "base_uri": "https://localhost:8080/"
        },
        "id": "O0-BHzOYRcQj",
        "outputId": "7e07bfab-5f55-4bdd-b720-ea0dad655553"
      },
      "execution_count": null,
      "outputs": [
        {
          "output_type": "stream",
          "name": "stdout",
          "text": [
            "Can drive: True\n"
          ]
        }
      ]
    },
    {
      "cell_type": "code",
      "source": [
        "# Multiple conditions\n",
        "score = 85\n",
        "is_present = True\n",
        "can_pass = score >= 80 and is_present\n",
        "print(f\"Can pass: {can_pass}\")\n"
      ],
      "metadata": {
        "colab": {
          "base_uri": "https://localhost:8080/"
        },
        "id": "TU9-en5HS-CR",
        "outputId": "30c4958b-0ad4-4fb9-9b5e-7d80836af9dd"
      },
      "execution_count": null,
      "outputs": [
        {
          "output_type": "stream",
          "name": "stdout",
          "text": [
            "Can pass: True\n"
          ]
        }
      ]
    },
    {
      "cell_type": "markdown",
      "source": [
        "Hands-on Exercise"
      ],
      "metadata": {
        "id": "NDwHj48yf4Ml"
      }
    },
    {
      "cell_type": "markdown",
      "source": [
        "Exercise 2:simple Calculator"
      ],
      "metadata": {
        "id": "E-uIufAMf_bh"
      }
    },
    {
      "cell_type": "markdown",
      "source": [
        "Create a calculator that cheaks if a person qualifies for a loan"
      ],
      "metadata": {
        "id": "jRXTd5IDgean"
      }
    },
    {
      "cell_type": "code",
      "source": [
        "# Personal information\n",
        "age = 25\n",
        "annual_income = 50000\n",
        "credit_score = 720\n",
        "has_collateral = True"
      ],
      "metadata": {
        "id": "mx5YTlvpnDGf"
      },
      "execution_count": null,
      "outputs": []
    },
    {
      "cell_type": "code",
      "source": [
        "# Loan criteria\n",
        "min_age = 18\n",
        "min_income = 30000\n",
        "min_credit_score = 650"
      ],
      "metadata": {
        "id": "0K5Q65w7nJtC"
      },
      "execution_count": null,
      "outputs": []
    },
    {
      "cell_type": "code",
      "source": [
        "# Check qualifications\n",
        "age_qualified = age >= min_age\n",
        "income_qualified = annual_income >= min_income\n",
        "credit_qualified = credit_score >= min_credit_score\n",
        "overall_qualified = age_qualified and income_qualified and credit_qualified\n"
      ],
      "metadata": {
        "id": "TQfS-nyqnPoZ"
      },
      "execution_count": null,
      "outputs": []
    },
    {
      "cell_type": "code",
      "source": [
        "print(\"=== Loan Qualification Check ===\")\n",
        "print(f\"Age: {age} (Required: {min_age}) - {'Yes' if age_qualified else 'No'}\")\n",
        "print(f\"Income: ${annual_income} (Required: ${min_income}) - {'Yes' if income_qualified else 'No'}\")\n",
        "print(f\"Credit Score: {credit_score} (Required: {min_credit_score}) - {'Yes' if credit_qualified else 'No'}\")\n",
        "print(f\"Has Collateral: {'Yes' if has_collateral else 'No'}\")\n",
        "print(f\"\\nOverall Qualification: {'QUALIFIED' if overall_qualified else 'NOT QUALIFIED'}\")\n"
      ],
      "metadata": {
        "colab": {
          "base_uri": "https://localhost:8080/"
        },
        "id": "sE9bc5AznW_4",
        "outputId": "356364f0-8273-42d5-c4b8-9643f28aaa63"
      },
      "execution_count": null,
      "outputs": [
        {
          "output_type": "stream",
          "name": "stdout",
          "text": [
            "=== Loan Qualification Check ===\n",
            "Age: 25 (Required: 18) - Yes\n",
            "Income: $50000 (Required: $30000) - Yes\n",
            "Credit Score: 720 (Required: 650) - Yes\n",
            "Has Collateral: Yes\n",
            "\n",
            "Overall Qualification: QUALIFIED\n"
          ]
        }
      ]
    },
    {
      "cell_type": "markdown",
      "source": [
        "Data Structures"
      ],
      "metadata": {
        "id": "XpvMeRKrouq8"
      }
    },
    {
      "cell_type": "markdown",
      "source": [
        "Lists"
      ],
      "metadata": {
        "id": "lVhOeUQ3o1m5"
      }
    },
    {
      "cell_type": "markdown",
      "source": [
        "Creating lists"
      ],
      "metadata": {
        "id": "uBajlC9ao4vH"
      }
    },
    {
      "cell_type": "code",
      "source": [
        "fruits = [\"apple\", \"banana\", \"orange\", \"grape\"]\n",
        "numbers = [10, 20, 30, 40, 50]\n",
        "mixed_data = [1, \"Hello\", 3.14, True]"
      ],
      "metadata": {
        "id": "UPKSrcTSor8P"
      },
      "execution_count": null,
      "outputs": []
    },
    {
      "cell_type": "markdown",
      "source": [
        "List indexing (0-based)"
      ],
      "metadata": {
        "id": "VCU0CNa2pEvi"
      }
    },
    {
      "cell_type": "code",
      "source": [
        "print(f\"First fruit: {fruits[0]}\")\n",
        "print(f\"Last fruit: {fruits[-1]}\")\n",
        "print(f\"Second to last: {fruits[-2]}\")"
      ],
      "metadata": {
        "colab": {
          "base_uri": "https://localhost:8080/"
        },
        "id": "hz0Q0smrpLXc",
        "outputId": "80f93f63-cc7d-4585-97dc-7c6eb5f3d42d"
      },
      "execution_count": null,
      "outputs": [
        {
          "output_type": "stream",
          "name": "stdout",
          "text": [
            "First fruit: apple\n",
            "Last fruit: grape\n",
            "Second to last: orange\n"
          ]
        }
      ]
    },
    {
      "cell_type": "markdown",
      "source": [
        "List Slicing"
      ],
      "metadata": {
        "id": "7Yk_WGlWpoGU"
      }
    },
    {
      "cell_type": "code",
      "source": [
        "print(f\"First 2 fruits: {fruits[0:2]}\")\n",
        "print(f\"Last 2 fruits: {fruits[-2:]}\")\n",
        "print(f\"All except first: {fruits[1:]}\")"
      ],
      "metadata": {
        "colab": {
          "base_uri": "https://localhost:8080/"
        },
        "id": "HxmnIu5YptFw",
        "outputId": "7cbff8ce-a5ce-4ab6-c660-f461a737d7d4"
      },
      "execution_count": null,
      "outputs": [
        {
          "output_type": "stream",
          "name": "stdout",
          "text": [
            "First 2 fruits: ['apple', 'banana']\n",
            "Last 2 fruits: ['orange', 'grape']\n",
            "All except first: ['banana', 'orange', 'grape']\n"
          ]
        }
      ]
    },
    {
      "cell_type": "markdown",
      "source": [
        "List method"
      ],
      "metadata": {
        "id": "lZ3eW7UY0YXs"
      }
    },
    {
      "cell_type": "code",
      "source": [
        "\n",
        "fruits.append(\"kiwi\") # Add to end\n",
        "fruits.insert(1, \"strawberry\") # Insert at index\n",
        "removed = fruits.pop() # Remove last\n",
        "print(f\"Updated list: {fruits}\")\n",
        "print(f\"Removed: {removed}\")"
      ],
      "metadata": {
        "colab": {
          "base_uri": "https://localhost:8080/"
        },
        "id": "6PIa9wIT0cC1",
        "outputId": "a4452edc-4ebc-47f1-f20a-f58ed93f86dc"
      },
      "execution_count": null,
      "outputs": [
        {
          "output_type": "stream",
          "name": "stdout",
          "text": [
            "Updated list: ['apple', 'strawberry', 'banana', 'orange', 'grape']\n",
            "Removed: kiwi\n"
          ]
        }
      ]
    },
    {
      "cell_type": "markdown",
      "source": [
        "List operation"
      ],
      "metadata": {
        "id": "jPSVvGYT0i0o"
      }
    },
    {
      "cell_type": "code",
      "source": [
        "print(f\"Length: {len(fruits)}\")\n",
        "print(f\"Contains 'apple': {'apple' in fruits}\")\n",
        "print(f\"Index of 'banana': {fruits.index('banana')}\")"
      ],
      "metadata": {
        "colab": {
          "base_uri": "https://localhost:8080/"
        },
        "id": "beCosoi_0lGd",
        "outputId": "cd064b64-a662-4dcc-e916-b9268726ca05"
      },
      "execution_count": null,
      "outputs": [
        {
          "output_type": "stream",
          "name": "stdout",
          "text": [
            "Length: 5\n",
            "Contains 'apple': True\n",
            "Index of 'banana': 2\n"
          ]
        }
      ]
    },
    {
      "cell_type": "markdown",
      "source": [
        "Tuple"
      ],
      "metadata": {
        "id": "FrhuitUi0rDj"
      }
    },
    {
      "cell_type": "markdown",
      "source": [
        "Tuples are immutable"
      ],
      "metadata": {
        "id": "uiEpjllK0yPw"
      }
    },
    {
      "cell_type": "code",
      "source": [
        "coordinates = (10, 20)\n",
        "rgb_color = (255, 128, 0)\n",
        "person_info = (\"Alice\", 25, \"Engineer\", True)"
      ],
      "metadata": {
        "id": "7MnMrfQE0vp0"
      },
      "execution_count": null,
      "outputs": []
    },
    {
      "cell_type": "markdown",
      "source": [
        "Tuples unpacking"
      ],
      "metadata": {
        "id": "SQQWZ_lN0w9d"
      }
    },
    {
      "cell_type": "code",
      "source": [
        "x, y = coordinates\n",
        "print(f\"X: {x}, Y: {y}\")"
      ],
      "metadata": {
        "colab": {
          "base_uri": "https://localhost:8080/"
        },
        "id": "n6Z__qU41Eos",
        "outputId": "24b10dc9-a036-498c-ac30-62632a49d60f"
      },
      "execution_count": null,
      "outputs": [
        {
          "output_type": "stream",
          "name": "stdout",
          "text": [
            "X: 10, Y: 20\n"
          ]
        }
      ]
    },
    {
      "cell_type": "markdown",
      "source": [
        "Tuples methods"
      ],
      "metadata": {
        "id": "ze-X8D8x1JFA"
      }
    },
    {
      "cell_type": "code",
      "source": [
        "print(f\"Count of 25: {person_info.count(25)}\")\n",
        "print(f\"Index of 'Engineer': {person_info.index('Engineer')}\")"
      ],
      "metadata": {
        "colab": {
          "base_uri": "https://localhost:8080/"
        },
        "id": "FEUa_B6k1NOW",
        "outputId": "ccbe2937-8fa1-4a46-ab84-cd0b88825fce"
      },
      "execution_count": null,
      "outputs": [
        {
          "output_type": "stream",
          "name": "stdout",
          "text": [
            "Count of 25: 1\n",
            "Index of 'Engineer': 2\n"
          ]
        }
      ]
    },
    {
      "cell_type": "markdown",
      "source": [
        "Why use tuples?\n",
        "*  Immutable (safe for dictionary keys)\n",
        "*  Slightly faster than lists\n",
        "* Good for fixed collections\n",
        "\n",
        "\n",
        "\n"
      ],
      "metadata": {
        "id": "UpBrNXS81XKt"
      }
    },
    {
      "cell_type": "markdown",
      "source": [
        "Dictionary"
      ],
      "metadata": {
        "id": "lNujT0x717Zb"
      }
    },
    {
      "cell_type": "markdown",
      "source": [
        "Dictionary creation"
      ],
      "metadata": {
        "id": "9trQSRhl1_aK"
      }
    },
    {
      "cell_type": "code",
      "source": [
        "person = {\n",
        "\"name\": \"Alice Johnson\",\n",
        "\"age\": 23,\n",
        "\"profession\": \"Software Engineer\",\n",
        "\"salary\": 75000,\n",
        "\"skills\": [\"Python\", \"JavaScript\", \"SQL\"]\n",
        "}"
      ],
      "metadata": {
        "id": "xFU-DP0Y14KJ"
      },
      "execution_count": null,
      "outputs": []
    },
    {
      "cell_type": "markdown",
      "source": [
        "Accessing values"
      ],
      "metadata": {
        "id": "N428exoI2JRU"
      }
    },
    {
      "cell_type": "code",
      "source": [
        "print(f\"Name: {person['name']}\")\n",
        "print(f\"Age: {person.get('age', 'Unknown')}\")"
      ],
      "metadata": {
        "colab": {
          "base_uri": "https://localhost:8080/"
        },
        "id": "S83GUArA2O2k",
        "outputId": "7570b575-1da2-406b-c094-645f43b04741"
      },
      "execution_count": null,
      "outputs": [
        {
          "output_type": "stream",
          "name": "stdout",
          "text": [
            "Name: Alice Johnson\n",
            "Age: 23\n"
          ]
        }
      ]
    },
    {
      "cell_type": "markdown",
      "source": [
        "Dictionary mathods"
      ],
      "metadata": {
        "id": "aOhRRCIR2VZR"
      }
    },
    {
      "cell_type": "code",
      "source": [
        "print(f\"Keys: {list(person.keys())}\")\n",
        "print(f\"Values: {list(person.values())}\")\n",
        "print(f\"Items: {list(person.items())}\")\n"
      ],
      "metadata": {
        "colab": {
          "base_uri": "https://localhost:8080/"
        },
        "id": "1-zUpp1M2avG",
        "outputId": "344c506f-d3e2-4999-dad0-f9c9655a6d58"
      },
      "execution_count": null,
      "outputs": [
        {
          "output_type": "stream",
          "name": "stdout",
          "text": [
            "Keys: ['name', 'age', 'profession', 'salary', 'skills']\n",
            "Values: ['Alice Johnson', 23, 'Software Engineer', 75000, ['Python', 'JavaScript', 'SQL']]\n",
            "Items: [('name', 'Alice Johnson'), ('age', 23), ('profession', 'Software Engineer'), ('salary', 75000), ('skills', ['Python', 'JavaScript', 'SQL'])]\n"
          ]
        }
      ]
    },
    {
      "cell_type": "markdown",
      "source": [
        "Adding/updating"
      ],
      "metadata": {
        "id": "9L8HPmIq2mJh"
      }
    },
    {
      "cell_type": "code",
      "source": [
        "person[\"location\"] = \"New York\"\n",
        "person[\"salary\"] = 80000"
      ],
      "metadata": {
        "id": "l4oHlcCS2py1"
      },
      "execution_count": null,
      "outputs": []
    },
    {
      "cell_type": "markdown",
      "source": [
        "Practical use case: inventory management"
      ],
      "metadata": {
        "id": "qivDJIyF2x_g"
      }
    },
    {
      "cell_type": "code",
      "source": [
        "inventory = {\n",
        "\"laptops\": {\"quantity\": 50, \"price\": 999.99},\n",
        "\"phones\": {\"quantity\": 100, \"price\": 599.99},\n",
        "\"tablets\": {\"quantity\": 30, \"price\": 399.99}\n",
        "}"
      ],
      "metadata": {
        "id": "FSt8WmQj25pD"
      },
      "execution_count": null,
      "outputs": []
    },
    {
      "cell_type": "markdown",
      "source": [
        "Nested access"
      ],
      "metadata": {
        "id": "YVox6EOi2_Gu"
      }
    },
    {
      "cell_type": "code",
      "source": [
        "print(f\"Laptop price: ${inventory['laptops']['price']}\")"
      ],
      "metadata": {
        "colab": {
          "base_uri": "https://localhost:8080/"
        },
        "id": "4aiC1CQD3CAZ",
        "outputId": "2970e5ab-38f2-4853-ff2b-f9b6d9afdd5e"
      },
      "execution_count": null,
      "outputs": [
        {
          "output_type": "stream",
          "name": "stdout",
          "text": [
            "Laptop price: $999.99\n"
          ]
        }
      ]
    },
    {
      "cell_type": "markdown",
      "source": [
        "Sets"
      ],
      "metadata": {
        "id": "oA1RBq8b3KFA"
      }
    },
    {
      "cell_type": "markdown",
      "source": [
        "Sets contain unique element"
      ],
      "metadata": {
        "id": "rtUn6qsD3L7_"
      }
    },
    {
      "cell_type": "code",
      "source": [
        "colors = {\"red\", \"green\", \"blue\", \"red\"}\n",
        "print(f\"Colors: {colors}\")"
      ],
      "metadata": {
        "colab": {
          "base_uri": "https://localhost:8080/"
        },
        "id": "9e__ej6_3T6V",
        "outputId": "19a4ebf3-ddce-4c36-d360-93c6f318486d"
      },
      "execution_count": null,
      "outputs": [
        {
          "output_type": "stream",
          "name": "stdout",
          "text": [
            "Colors: {'blue', 'red', 'green'}\n"
          ]
        }
      ]
    },
    {
      "cell_type": "markdown",
      "source": [
        "Set opretions"
      ],
      "metadata": {
        "id": "vzcd1SE_3bYM"
      }
    },
    {
      "cell_type": "code",
      "source": [
        "team1_skills = {\"Python\", \"JavaScript\", \"SQL\", \"React\"}\n",
        "team2_skills = {\"JavaScript\", \"SQL\", \"Java\", \"Spring\"}"
      ],
      "metadata": {
        "id": "ED8drDIm3e9y"
      },
      "execution_count": null,
      "outputs": []
    },
    {
      "cell_type": "markdown",
      "source": [
        "Common operation"
      ],
      "metadata": {
        "id": "YtvIHOW33mSe"
      }
    },
    {
      "cell_type": "code",
      "source": [
        "print(f\"Common skills: {team1_skills.intersection(team2_skills)}\")\n",
        "print(f\"All skills: {team1_skills.union(team2_skills)}\")\n",
        "print(f\"Team1 only: {team1_skills.difference(team2_skills)}\")"
      ],
      "metadata": {
        "colab": {
          "base_uri": "https://localhost:8080/"
        },
        "id": "z6UbabRG3vIj",
        "outputId": "b7744d54-0b66-4b53-fa47-e20b72df9445"
      },
      "execution_count": null,
      "outputs": [
        {
          "output_type": "stream",
          "name": "stdout",
          "text": [
            "Common skills: {'JavaScript', 'SQL'}\n",
            "All skills: {'Python', 'Java', 'JavaScript', 'Spring', 'React', 'SQL'}\n",
            "Team1 only: {'React', 'Python'}\n"
          ]
        }
      ]
    },
    {
      "cell_type": "markdown",
      "source": [
        "Adding to sets"
      ],
      "metadata": {
        "id": "uz4iNAbJ38ab"
      }
    },
    {
      "cell_type": "code",
      "source": [
        "colors.add(\"yellow\")\n",
        "colors.update([\"purple\", \"orange\"])\n",
        "print(f\"Updated colors: {colors}\")"
      ],
      "metadata": {
        "colab": {
          "base_uri": "https://localhost:8080/"
        },
        "id": "56ABQQdB4Ai4",
        "outputId": "f39b842f-cd95-422f-c54f-1ea34a9ac5b5"
      },
      "execution_count": null,
      "outputs": [
        {
          "output_type": "stream",
          "name": "stdout",
          "text": [
            "Updated colors: {'blue', 'purple', 'yellow', 'green', 'orange', 'red'}\n"
          ]
        }
      ]
    },
    {
      "cell_type": "markdown",
      "source": [
        "Control Flow"
      ],
      "metadata": {
        "id": "7NEBokIm4F3U"
      }
    },
    {
      "cell_type": "markdown",
      "source": [
        "Condition Statements"
      ],
      "metadata": {
        "id": "bdpQ8O2o4ObL"
      }
    },
    {
      "cell_type": "markdown",
      "source": [
        "Basic if-else"
      ],
      "metadata": {
        "id": "8WQCoPZp4ZjC"
      }
    },
    {
      "cell_type": "code",
      "source": [
        "def get_grade_letter(score):\n",
        "  if score >= 90:\n",
        "    return \"A\"\n",
        "  elif score >= 80:\n",
        "    return \"B\"\n",
        "  elif score >= 70:\n",
        "    return \"C\"\n",
        "  elif score >= 60:\n",
        "    return \"D\"\n",
        "  else:\n",
        "    return \"F\""
      ],
      "metadata": {
        "id": "hieclkoQ4dou"
      },
      "execution_count": null,
      "outputs": []
    },
    {
      "cell_type": "markdown",
      "source": [
        "Test the function"
      ],
      "metadata": {
        "id": "bCxLdRlA4ozg"
      }
    },
    {
      "cell_type": "code",
      "source": [
        "test_scores = [95, 83, 72, 65, 58]\n",
        "for score in test_scores:\n",
        "  grade = get_grade_letter(score)\n",
        "  print(f\"Score {score}: Grade {grade}\")"
      ],
      "metadata": {
        "colab": {
          "base_uri": "https://localhost:8080/"
        },
        "id": "yhFIFr8Y4tAM",
        "outputId": "305def96-4adc-4b94-f978-bbd629f77768"
      },
      "execution_count": null,
      "outputs": [
        {
          "output_type": "stream",
          "name": "stdout",
          "text": [
            "Score 95: Grade A\n",
            "Score 83: Grade B\n",
            "Score 72: Grade C\n",
            "Score 65: Grade D\n",
            "Score 58: Grade F\n"
          ]
        }
      ]
    },
    {
      "cell_type": "markdown",
      "source": [
        "Nested conditions"
      ],
      "metadata": {
        "id": "LRxn-_gI41jh"
      }
    },
    {
      "cell_type": "code",
      "source": [
        "def get_shipping_cost(weight, distance):\n",
        "  base_cost = 5.0\n",
        "\n",
        "  if weight <= 1:\n",
        "    weight_cost = 2.0\n",
        "  elif weight <= 5:\n",
        "    weight_cost = 5.0\n",
        "  else:\n",
        "    weight_cost = 10.0\n",
        "\n",
        "  if distance <= 100:\n",
        "    distance_cost = 1.0\n",
        "  elif distance <= 500:\n",
        "    distance_cost = 3.0\n",
        "  else:\n",
        "    distance_cost = 7.0\n",
        "  return base_cost + weight_cost + distance_cost"
      ],
      "metadata": {
        "id": "AzloN9FI47nO"
      },
      "execution_count": null,
      "outputs": []
    },
    {
      "cell_type": "markdown",
      "source": [
        "Test shipping costs"
      ],
      "metadata": {
        "id": "zZVkKsBO5Jr3"
      }
    },
    {
      "cell_type": "code",
      "source": [
        "print(f\"Light, close: ${get_shipping_cost(0.5, 50)}\")\n",
        "print(f\"Heavy, far: ${get_shipping_cost(10, 800)}\")"
      ],
      "metadata": {
        "colab": {
          "base_uri": "https://localhost:8080/"
        },
        "id": "SCNeGuNG5Ot-",
        "outputId": "1ecc94a8-0e36-4b52-9a77-6d8e7cf71427"
      },
      "execution_count": null,
      "outputs": [
        {
          "output_type": "stream",
          "name": "stdout",
          "text": [
            "Light, close: $8.0\n",
            "Heavy, far: $22.0\n"
          ]
        }
      ]
    },
    {
      "cell_type": "markdown",
      "source": [
        "Loops-For Loop"
      ],
      "metadata": {
        "id": "lsd6ENmp8RTT"
      }
    },
    {
      "cell_type": "markdown",
      "source": [
        "Basic for loop"
      ],
      "metadata": {
        "id": "ALdTWW6x8VI2"
      }
    },
    {
      "cell_type": "code",
      "source": [
        "fruits = [\"apple\", \"banana\", \"orange\", \"grape\"]\n",
        "for fruit in fruits:\n",
        "  print(f\"I like {fruit}\")"
      ],
      "metadata": {
        "colab": {
          "base_uri": "https://localhost:8080/"
        },
        "id": "HdDNh0jB8b2N",
        "outputId": "3d259da7-118d-4996-e955-de1cfa8ce83d"
      },
      "execution_count": null,
      "outputs": [
        {
          "output_type": "stream",
          "name": "stdout",
          "text": [
            "I like apple\n",
            "I like banana\n",
            "I like orange\n",
            "I like grape\n"
          ]
        }
      ]
    },
    {
      "cell_type": "markdown",
      "source": [
        "Loop with enumerate (get index)"
      ],
      "metadata": {
        "id": "_cqiEje98iij"
      }
    },
    {
      "cell_type": "code",
      "source": [
        "for i, fruit in enumerate(fruits):\n",
        "  print(f\"{i+1}. {fruit}\")"
      ],
      "metadata": {
        "colab": {
          "base_uri": "https://localhost:8080/"
        },
        "id": "X4HBd1CS8qf2",
        "outputId": "9a7856b8-1c5f-4958-c069-c8f07b7f61e3"
      },
      "execution_count": null,
      "outputs": [
        {
          "output_type": "stream",
          "name": "stdout",
          "text": [
            "1. apple\n",
            "2. banana\n",
            "3. orange\n",
            "4. grape\n"
          ]
        }
      ]
    },
    {
      "cell_type": "markdown",
      "source": [
        "Loop with range"
      ],
      "metadata": {
        "id": "d4YblyVJ8x_N"
      }
    },
    {
      "cell_type": "code",
      "source": [
        "for day in range(1, 8):\n",
        "  print(f\"Day {day} of the week\")"
      ],
      "metadata": {
        "colab": {
          "base_uri": "https://localhost:8080/"
        },
        "id": "2uLpt07H824-",
        "outputId": "996435f6-8c57-4d8c-97a9-7ac87061e5d2"
      },
      "execution_count": null,
      "outputs": [
        {
          "output_type": "stream",
          "name": "stdout",
          "text": [
            "Day 1 of the week\n",
            "Day 2 of the week\n",
            "Day 3 of the week\n",
            "Day 4 of the week\n",
            "Day 5 of the week\n",
            "Day 6 of the week\n",
            "Day 7 of the week\n"
          ]
        }
      ]
    },
    {
      "cell_type": "markdown",
      "source": [
        "Nested loops-Creating a multiplication tale"
      ],
      "metadata": {
        "id": "MXJlgwdq876i"
      }
    },
    {
      "cell_type": "code",
      "source": [
        "print(\"Multiplication Table:\")\n",
        "for i in range(1, 6):\n",
        "  for j in range(1, 6):\n",
        "    product = i * j\n",
        "    print(f\"{i} x {j} = {product:2d}\", end=\" \")\n",
        "    print()"
      ],
      "metadata": {
        "colab": {
          "base_uri": "https://localhost:8080/"
        },
        "id": "k0wueR3Y9Foo",
        "outputId": "f4393507-b18b-40aa-9ed3-b99034490231"
      },
      "execution_count": null,
      "outputs": [
        {
          "output_type": "stream",
          "name": "stdout",
          "text": [
            "Multiplication Table:\n",
            "1 x 1 =  1 \n",
            "1 x 2 =  2 \n",
            "1 x 3 =  3 \n",
            "1 x 4 =  4 \n",
            "1 x 5 =  5 \n",
            "2 x 1 =  2 \n",
            "2 x 2 =  4 \n",
            "2 x 3 =  6 \n",
            "2 x 4 =  8 \n",
            "2 x 5 = 10 \n",
            "3 x 1 =  3 \n",
            "3 x 2 =  6 \n",
            "3 x 3 =  9 \n",
            "3 x 4 = 12 \n",
            "3 x 5 = 15 \n",
            "4 x 1 =  4 \n",
            "4 x 2 =  8 \n",
            "4 x 3 = 12 \n",
            "4 x 4 = 16 \n",
            "4 x 5 = 20 \n",
            "5 x 1 =  5 \n",
            "5 x 2 = 10 \n",
            "5 x 3 = 15 \n",
            "5 x 4 = 20 \n",
            "5 x 5 = 25 \n"
          ]
        }
      ]
    },
    {
      "cell_type": "markdown",
      "source": [
        "Processing data with loops"
      ],
      "metadata": {
        "id": "vTIcDbuB9NWQ"
      }
    },
    {
      "cell_type": "code",
      "source": [
        "sales_data = [\n",
        "{\"product\": \"Laptop\", \"price\": 999, \"quantity\": 5},\n",
        "{\"product\": \"Phone\", \"price\": 599, \"quantity\": 10},\n",
        "{\"product\": \"Tablet\", \"price\": 399, \"quantity\": 8}\n",
        "]\n",
        "\n",
        "total_revenue = 0\n",
        "\n",
        "for item in sales_data:\n",
        "  item_revenue = item[\"price\"] * item[\"quantity\"]\n",
        "  total_revenue += item_revenue\n",
        "  print(f\"{item['product']}: ${item_revenue}\")\n",
        "\n",
        "print(f\"Total Revenue: ${total_revenue}\")"
      ],
      "metadata": {
        "colab": {
          "base_uri": "https://localhost:8080/"
        },
        "id": "xqem7hYM9Ui5",
        "outputId": "aaa8afcb-46ad-4285-d054-e71a41f181c7"
      },
      "execution_count": null,
      "outputs": [
        {
          "output_type": "stream",
          "name": "stdout",
          "text": [
            "Laptop: $4995\n",
            "Phone: $5990\n",
            "Tablet: $3192\n",
            "Total Revenue: $14177\n"
          ]
        }
      ]
    },
    {
      "cell_type": "markdown",
      "source": [
        "Loops-while Loop"
      ],
      "metadata": {
        "id": "gVPR-9TZ9TLq"
      }
    },
    {
      "cell_type": "markdown",
      "source": [
        "While loops for user input simulation"
      ],
      "metadata": {
        "id": "warSu_eX9euH"
      }
    },
    {
      "cell_type": "code",
      "source": [
        "def simple_guessing_game():\n",
        "  target = 7\n",
        "  guess = 0\n",
        "  attempts = 0\n",
        "  print(\"Guess the number between 1 and 10!\")\n",
        "\n",
        "  while guess != target:\n",
        "\n",
        "    # Simulate user input\n",
        "    import random\n",
        "    guess = random.randint(1, 10)\n",
        "    attempts += 1\n",
        "\n",
        "    if guess < target:\n",
        "      print(f\"Guess {attempts}: {guess} - Too low!\")\n",
        "    elif guess > target:\n",
        "      print(f\"Guess {attempts}: {guess} - Too high!\")\n",
        "    else:\n",
        "      print(f\"Guess {attempts}: {guess} - Correct!\")\n",
        "\n",
        "    # Safety check\n",
        "    if attempts > 10:\n",
        "      print(\"Max attempts reached!\")\n",
        "      break\n",
        "\n",
        "  print(f\"Game finished in {attempts} attempts\")\n",
        "\n",
        "simple_guessing_game()"
      ],
      "metadata": {
        "colab": {
          "base_uri": "https://localhost:8080/"
        },
        "id": "7v5SncOS9ujy",
        "outputId": "a345a0aa-2e38-4be3-cb1f-48a6c6032c7d"
      },
      "execution_count": null,
      "outputs": [
        {
          "output_type": "stream",
          "name": "stdout",
          "text": [
            "Guess the number between 1 and 10!\n",
            "Guess 1: 6 - Too low!\n",
            "Guess 2: 5 - Too low!\n",
            "Guess 3: 3 - Too low!\n",
            "Guess 4: 5 - Too low!\n",
            "Guess 5: 9 - Too high!\n",
            "Guess 6: 10 - Too high!\n",
            "Guess 7: 2 - Too low!\n",
            "Guess 8: 7 - Correct!\n",
            "Game finished in 8 attempts\n"
          ]
        }
      ]
    },
    {
      "cell_type": "markdown",
      "source": [
        "While loop for processing"
      ],
      "metadata": {
        "id": "P7O4uqEE-kyc"
      }
    },
    {
      "cell_type": "code",
      "source": [
        "def process_queue():\n",
        "  queue = [\"Task 1\", \"Task 2\", \"Task 3\", \"Task 4\"]\n",
        "\n",
        "  while queue:\n",
        "    current_task = queue.pop(0) # Remove first item\n",
        "    print(f\"Processing: {current_task}\")\n",
        "\n",
        "    print(f\"Remaining tasks: {len(queue)}\")\n",
        "\n",
        "  print(\"All tasks completed!\")\n",
        "\n",
        "process_queue()"
      ],
      "metadata": {
        "colab": {
          "base_uri": "https://localhost:8080/"
        },
        "id": "9r03Cq0F-qeL",
        "outputId": "2134966e-ff7e-4e49-e68f-c7ef1debc536"
      },
      "execution_count": null,
      "outputs": [
        {
          "output_type": "stream",
          "name": "stdout",
          "text": [
            "Processing: Task 1\n",
            "Remaining tasks: 3\n",
            "Processing: Task 2\n",
            "Remaining tasks: 2\n",
            "Processing: Task 3\n",
            "Remaining tasks: 1\n",
            "Processing: Task 4\n",
            "Remaining tasks: 0\n",
            "All tasks completed!\n"
          ]
        }
      ]
    },
    {
      "cell_type": "markdown",
      "source": [
        "Function"
      ],
      "metadata": {
        "id": "PrvK6zsK-vpJ"
      }
    },
    {
      "cell_type": "markdown",
      "source": [
        "Function Basics"
      ],
      "metadata": {
        "id": "1fJRLhpQ-y1y"
      }
    },
    {
      "cell_type": "markdown",
      "source": [
        "Basic function definition"
      ],
      "metadata": {
        "id": "fpzCmFE2-3en"
      }
    },
    {
      "cell_type": "code",
      "source": [
        "def greet(name):\n",
        "  return f\"Hello, {name}!\""
      ],
      "metadata": {
        "id": "mlH0aPYC--jt"
      },
      "execution_count": null,
      "outputs": []
    },
    {
      "cell_type": "markdown",
      "source": [
        "Function call"
      ],
      "metadata": {
        "id": "tTS_RfE1_FgV"
      }
    },
    {
      "cell_type": "code",
      "source": [
        "message = greet(\"Python Programmer\")\n",
        "print(message)"
      ],
      "metadata": {
        "colab": {
          "base_uri": "https://localhost:8080/"
        },
        "id": "rWEgUGX8_I1r",
        "outputId": "9b373737-ef56-4899-b95e-05fa801632b0"
      },
      "execution_count": null,
      "outputs": [
        {
          "output_type": "stream",
          "name": "stdout",
          "text": [
            "Hello, Python Programmer!\n"
          ]
        }
      ]
    },
    {
      "cell_type": "markdown",
      "source": [
        "Function with multiple parameters"
      ],
      "metadata": {
        "id": "pVNfl4Se8W7N"
      }
    },
    {
      "cell_type": "code",
      "source": [
        "def calculate_area(length, width):\n",
        "  area = length * width\n",
        "  return area"
      ],
      "metadata": {
        "id": "Eeyoeq8p8elO"
      },
      "execution_count": null,
      "outputs": []
    },
    {
      "cell_type": "markdown",
      "source": [
        "Test the function"
      ],
      "metadata": {
        "id": "-XDhwGge8l_H"
      }
    },
    {
      "cell_type": "code",
      "source": [
        "room_area = calculate_area(12, 10)\n",
        "print(f\"Room area: {room_area} square feet\")"
      ],
      "metadata": {
        "colab": {
          "base_uri": "https://localhost:8080/"
        },
        "id": "_ytT_v2C8r-7",
        "outputId": "abdea9d8-3f6d-4854-86db-d79f44c12bc0"
      },
      "execution_count": null,
      "outputs": [
        {
          "output_type": "stream",
          "name": "stdout",
          "text": [
            "Room area: 120 square feet\n"
          ]
        }
      ]
    },
    {
      "cell_type": "markdown",
      "source": [
        "Function with default parameters"
      ],
      "metadata": {
        "id": "CsU68ZJV8xB0"
      }
    },
    {
      "cell_type": "code",
      "source": [
        "def create_user_profile(name, age=18, location=\"Unknown\", active=True):\n",
        "  return {\n",
        "      \"name\": name,\n",
        "      \"age\": age,\n",
        "      \"location\": location,\n",
        "      \"active\": active\n",
        "  }"
      ],
      "metadata": {
        "id": "5oN-ljpY86Nn"
      },
      "execution_count": null,
      "outputs": []
    },
    {
      "cell_type": "markdown",
      "source": [
        "Different ways to call"
      ],
      "metadata": {
        "id": "iuGTQ2GU8_hj"
      }
    },
    {
      "cell_type": "code",
      "source": [
        "profile1 = create_user_profile(\"Alice\")\n",
        "profile2 = create_user_profile(\"Bob\", 25)\n",
        "profile3 = create_user_profile(\"Charlie\", location=\"New York\", age=30)\n",
        "\n",
        "print(f\"Profile 1: {profile1}\")\n",
        "print(f\"Profile 2: {profile2}\")\n",
        "print(f\"Profile 3: {profile3}\")"
      ],
      "metadata": {
        "colab": {
          "base_uri": "https://localhost:8080/"
        },
        "id": "9E1fJnmF9Ejp",
        "outputId": "0fa52c1a-b488-48a9-8ebf-e64a4f915556"
      },
      "execution_count": null,
      "outputs": [
        {
          "output_type": "stream",
          "name": "stdout",
          "text": [
            "Profile 1: {'name': 'Alice', 'age': 18, 'location': 'Unknown', 'active': True}\n",
            "Profile 2: {'name': 'Bob', 'age': 25, 'location': 'Unknown', 'active': True}\n",
            "Profile 3: {'name': 'Charlie', 'age': 30, 'location': 'New York', 'active': True}\n"
          ]
        }
      ]
    },
    {
      "cell_type": "markdown",
      "source": [
        "Advanced Function Concepts"
      ],
      "metadata": {
        "id": "qSHeCo1g9SqH"
      }
    },
    {
      "cell_type": "markdown",
      "source": [
        "Function returning multiple values"
      ],
      "metadata": {
        "id": "5MHdaHX-9Zl1"
      }
    },
    {
      "cell_type": "code",
      "source": [
        "def analyze_text(text):\n",
        "  words = text.split()\n",
        "  word_count = len(words)\n",
        "  char_count = len(text)\n",
        "  char_count_no_spaces = len(text.replace(\" \", \"\"))\n",
        "  return word_count, char_count, char_count_no_spaces"
      ],
      "metadata": {
        "id": "k69OyoLW9gxY"
      },
      "execution_count": null,
      "outputs": []
    },
    {
      "cell_type": "markdown",
      "source": [
        "Test with sample text"
      ],
      "metadata": {
        "id": "YwcTlDkN9l3I"
      }
    },
    {
      "cell_type": "code",
      "source": [
        "sample_text = \"Python is a powerful programming language\"\n",
        "words, chars, chars_no_space = analyze_text(sample_text)\n",
        "print(f\"Text: '{sample_text}'\")\n",
        "print(f\"Word count: {words}\")\n",
        "print(f\"Character count: {chars}\")\n",
        "print(f\"Characters (no spaces): {chars_no_space}\")"
      ],
      "metadata": {
        "colab": {
          "base_uri": "https://localhost:8080/"
        },
        "id": "ntCANtDu9qyL",
        "outputId": "f9615b4d-8a42-464a-e8f7-a969982f0341"
      },
      "execution_count": null,
      "outputs": [
        {
          "output_type": "stream",
          "name": "stdout",
          "text": [
            "Text: 'Python is a powerful programming language'\n",
            "Word count: 6\n",
            "Character count: 41\n",
            "Characters (no spaces): 36\n"
          ]
        }
      ]
    },
    {
      "cell_type": "markdown",
      "source": [
        "Variable-length argument"
      ],
      "metadata": {
        "id": "NWR6s8P091WZ"
      }
    },
    {
      "cell_type": "code",
      "source": [
        "def calculate_average(*numbers):\n",
        "  if not numbers:\n",
        "    return 0\n",
        "    return sum(numbers) / len(numbers)"
      ],
      "metadata": {
        "id": "pa_EvYyp98Oq"
      },
      "execution_count": null,
      "outputs": []
    },
    {
      "cell_type": "markdown",
      "source": [
        "Test with diffrent number of argument"
      ],
      "metadata": {
        "id": "LMdPcbGV-Dp6"
      }
    },
    {
      "cell_type": "code",
      "source": [
        "avg1 = calculate_average(10, 20, 30)\n",
        "avg2 = calculate_average(5, 15, 25, 35, 45)\n",
        "avg3 = calculate_average(100)\n",
        "\n",
        "print(f\"Average of 10, 20, 30: {avg1}\")\n",
        "print(f\"Average of 5, 15, 25, 35, 45: {avg2}\")\n",
        "print(f\"Average of 100: {avg3}\")"
      ],
      "metadata": {
        "colab": {
          "base_uri": "https://localhost:8080/"
        },
        "id": "6bnNLVAG-KXT",
        "outputId": "43fe40dc-a811-4952-a343-112d768ba476"
      },
      "execution_count": null,
      "outputs": [
        {
          "output_type": "stream",
          "name": "stdout",
          "text": [
            "Average of 10, 20, 30: None\n",
            "Average of 5, 15, 25, 35, 45: None\n",
            "Average of 100: None\n"
          ]
        }
      ]
    },
    {
      "cell_type": "markdown",
      "source": [
        "Keyword argument"
      ],
      "metadata": {
        "id": "VjsgWMVl-O66"
      }
    },
    {
      "cell_type": "code",
      "source": [
        "def create_report(**data):\n",
        "  print(\"=== REPORT ===\")\n",
        "  for key, value in data.items():\n",
        "    print(f\"{key.replace('_', ' ').title()}: {value}\")\n",
        "\n",
        "  print(\"===============\")\n",
        "\n",
        "create_report(\n",
        "  title=\"Monthly Sales Report\",\n",
        "  date=\"2024-01-01\",\n",
        "  total_sales=15000,\n",
        "  new_customers=25,\n",
        "  returning_customers=150\n",
        ")"
      ],
      "metadata": {
        "colab": {
          "base_uri": "https://localhost:8080/"
        },
        "id": "6JDCT8Ez-VzO",
        "outputId": "46aea57f-2bad-4dcc-e2bd-f5716b798fb8"
      },
      "execution_count": null,
      "outputs": [
        {
          "output_type": "stream",
          "name": "stdout",
          "text": [
            "=== REPORT ===\n",
            "Title: Monthly Sales Report\n",
            "Date: 2024-01-01\n",
            "Total Sales: 15000\n",
            "New Customers: 25\n",
            "Returning Customers: 150\n",
            "===============\n"
          ]
        }
      ]
    },
    {
      "cell_type": "markdown",
      "source": [
        "Lambda Function"
      ],
      "metadata": {
        "id": "cIPo8aqM-itK"
      }
    },
    {
      "cell_type": "markdown",
      "source": [
        "Lambda function (anonymous function)"
      ],
      "metadata": {
        "id": "C_imCBCm-n9E"
      }
    },
    {
      "cell_type": "markdown",
      "source": [
        "Regular function"
      ],
      "metadata": {
        "id": "lYriXYvt-yFr"
      }
    },
    {
      "cell_type": "code",
      "source": [
        "def square(x):\n",
        "  return x ** 2"
      ],
      "metadata": {
        "id": "zZ_a6jl9-4Dp"
      },
      "execution_count": null,
      "outputs": []
    },
    {
      "cell_type": "markdown",
      "source": [
        "Lambda equivqlent"
      ],
      "metadata": {
        "id": "0277z34K-9zV"
      }
    },
    {
      "cell_type": "code",
      "source": [
        "square_lambda = lambda x: x ** 2\n",
        "print(f\"Regular function: {square(5)}\")\n",
        "print(f\"Lambda function: {square_lambda(5)}\")"
      ],
      "metadata": {
        "colab": {
          "base_uri": "https://localhost:8080/"
        },
        "id": "tJ8E3d6h_C7Z",
        "outputId": "e65be57e-f1cd-4462-ba36-47edc7cfc1c0"
      },
      "execution_count": null,
      "outputs": [
        {
          "output_type": "stream",
          "name": "stdout",
          "text": [
            "Regular function: 25\n",
            "Lambda function: 25\n"
          ]
        }
      ]
    },
    {
      "cell_type": "markdown",
      "source": [
        "Lambda with multiple argument"
      ],
      "metadata": {
        "id": "Ogkkc3_-_JQz"
      }
    },
    {
      "cell_type": "code",
      "source": [
        "multiply = lambda x, y: x * y\n",
        "print(f\"Multiply: {multiply(3, 4)}\")"
      ],
      "metadata": {
        "colab": {
          "base_uri": "https://localhost:8080/"
        },
        "id": "sX1q5F9H_QgE",
        "outputId": "880fae09-e897-4c5a-9582-87d8afb21f40"
      },
      "execution_count": null,
      "outputs": [
        {
          "output_type": "stream",
          "name": "stdout",
          "text": [
            "Multiply: 12\n"
          ]
        }
      ]
    },
    {
      "cell_type": "markdown",
      "source": [
        "Lambda with built-in function"
      ],
      "metadata": {
        "id": "hIDFynil_V_C"
      }
    },
    {
      "cell_type": "code",
      "source": [
        "numbers = [1, 2, 3, 4, 5]\n",
        "squared = list(map(lambda x: x**2, numbers))\n",
        "print(f\"Squared numbers: {squared}\")"
      ],
      "metadata": {
        "colab": {
          "base_uri": "https://localhost:8080/"
        },
        "id": "D_8UDXDT_d3I",
        "outputId": "160accda-8707-435f-b816-a7667b0cc98f"
      },
      "execution_count": null,
      "outputs": [
        {
          "output_type": "stream",
          "name": "stdout",
          "text": [
            "Squared numbers: [1, 4, 9, 16, 25]\n"
          ]
        }
      ]
    },
    {
      "cell_type": "markdown",
      "source": [
        "FIltering with lambda"
      ],
      "metadata": {
        "id": "4KgZIMfS_kST"
      }
    },
    {
      "cell_type": "code",
      "source": [
        "ages = [16, 21, 35, 12, 45, 18, 67]\n",
        "adults = list(filter(lambda age: age >= 18, ages))\n",
        "print(f\"Adult ages: {adults}\")"
      ],
      "metadata": {
        "colab": {
          "base_uri": "https://localhost:8080/"
        },
        "id": "ljUUCXgf_pTV",
        "outputId": "f0815c6b-85b6-4fbf-f1f9-d26fbc70951a"
      },
      "execution_count": null,
      "outputs": [
        {
          "output_type": "stream",
          "name": "stdout",
          "text": [
            "Adult ages: [21, 35, 45, 18, 67]\n"
          ]
        }
      ]
    },
    {
      "cell_type": "markdown",
      "source": [
        "Sorting with lambda"
      ],
      "metadata": {
        "id": "skY7GrGy_wbh"
      }
    },
    {
      "cell_type": "code",
      "source": [
        "people = [\n",
        "  {\"name\": \"Alice\", \"age\": 30},\n",
        "  {\"name\": \"Bob\", \"age\": 25},\n",
        "  {\"name\": \"Charlie\", \"age\": 35}\n",
        "]\n",
        "\n",
        "sorted_people = sorted(people, key=lambda person: person[\"age\"])\n",
        "print(\"People sorted by age:\")\n",
        "\n",
        "for person in sorted_people:\n",
        "  print(f\" {person['name']}: {person['age']}\")\n"
      ],
      "metadata": {
        "colab": {
          "base_uri": "https://localhost:8080/"
        },
        "id": "K7oq3qDa_z1u",
        "outputId": "0423016c-ce04-4223-ed5f-146623010c30"
      },
      "execution_count": null,
      "outputs": [
        {
          "output_type": "stream",
          "name": "stdout",
          "text": [
            "People sorted by age:\n",
            " Bob: 25\n",
            " Alice: 30\n",
            " Charlie: 35\n"
          ]
        }
      ]
    },
    {
      "cell_type": "markdown",
      "source": [
        "Hands-on Exercise"
      ],
      "metadata": {
        "id": "tOyg4AlE_7zj"
      }
    },
    {
      "cell_type": "markdown",
      "source": [
        "Exercise 3:library management system"
      ],
      "metadata": {
        "id": "p4AEfAN_ACwC"
      }
    },
    {
      "cell_type": "code",
      "source": [
        "def create_library_system():\n",
        "  \"\"\"\n",
        "  Create a simple library management system\n",
        "  \"\"\"\n",
        "  books = []\n",
        "\n",
        "  def add_book(title, author, isbn, available=True):\n",
        "    book = {\n",
        "    \"title\": title,\n",
        "    \"author\": author,\n",
        "    \"isbn\": isbn,\n",
        "    \"available\": available\n",
        "    }\n",
        "    books.append(book)\n",
        "    print(f\"Added: {title} by {author}\")\n",
        "\n",
        "  def find_book(title):\n",
        "    for book in books:\n",
        "      if book[\"title\"].lower() == title.lower():\n",
        "        return book\n",
        "    return None\n",
        "\n",
        "  def checkout_book(title):\n",
        "    book = find_book(title)\n",
        "    if book and book[\"available\"]:\n",
        "      book[\"available\"] = False\n",
        "      print(f\"Checked out: {title}\")\n",
        "      return True\n",
        "    else:\n",
        "      print(f\"Book not available: {title}\")\n",
        "      return False\n",
        "\n",
        "  def return_book(title):\n",
        "    book = find_book(title)\n",
        "    if book:\n",
        "      book[\"available\"] = True\n",
        "      print(f\"Returned: {title}\")\n",
        "      return True\n",
        "    else:\n",
        "      print(f\"Book not found: {title}\")\n",
        "      return False\n",
        "\n",
        "  def list_available_books():\n",
        "    available = [book for book in books if book[\"available\"]]\n",
        "    print(\"Available books:\")\n",
        "    for book in available:\n",
        "      print(f\" - {book['title']} by {book['author']}\")\n",
        "      return available\n",
        "\n",
        "  return add_book, find_book, checkout_book, return_book, list_available_books\n"
      ],
      "metadata": {
        "id": "kUcRQKvlAPTh"
      },
      "execution_count": null,
      "outputs": []
    },
    {
      "cell_type": "markdown",
      "source": [
        "Test the library system"
      ],
      "metadata": {
        "id": "EFtiezJVAe5t"
      }
    },
    {
      "cell_type": "code",
      "source": [
        "add_book, find_book, checkout_book, return_book, list_available = create_library_system()\n",
        "\n",
        "add_book(\"The Python Guide\", \"John Doe\", \"123-456-789\")\n",
        "add_book(\"Web Development Basics\", \"Jane Smith\", \"987-654-321\")\n",
        "add_book(\"Database Design\", \"Bob Johnson\", \"555-123-456\")\n",
        "\n",
        "print(\"\\n--- Library Operations ---\")\n",
        "list_available()\n",
        "print()\n",
        "\n",
        "checkout_book(\"The Python Guide\")\n",
        "list_available()\n",
        "print()\n",
        "\n",
        "return_book(\"The Python Guide\")\n",
        "list_available()\n",
        "\n"
      ],
      "metadata": {
        "colab": {
          "base_uri": "https://localhost:8080/"
        },
        "id": "VGoN_HEYAkdB",
        "outputId": "e702dc28-c6d3-45b9-822f-4af1054b6c04"
      },
      "execution_count": null,
      "outputs": [
        {
          "output_type": "stream",
          "name": "stdout",
          "text": [
            "Added: The Python Guide by John Doe\n",
            "Added: Web Development Basics by Jane Smith\n",
            "Added: Database Design by Bob Johnson\n",
            "\n",
            "--- Library Operations ---\n",
            "Available books:\n",
            " - The Python Guide by John Doe\n",
            "\n",
            "Checked out: The Python Guide\n",
            "Available books:\n",
            " - Web Development Basics by Jane Smith\n",
            "\n",
            "Returned: The Python Guide\n",
            "Available books:\n",
            " - The Python Guide by John Doe\n"
          ]
        },
        {
          "output_type": "execute_result",
          "data": {
            "text/plain": [
              "[{'title': 'The Python Guide',\n",
              "  'author': 'John Doe',\n",
              "  'isbn': '123-456-789',\n",
              "  'available': True},\n",
              " {'title': 'Web Development Basics',\n",
              "  'author': 'Jane Smith',\n",
              "  'isbn': '987-654-321',\n",
              "  'available': True},\n",
              " {'title': 'Database Design',\n",
              "  'author': 'Bob Johnson',\n",
              "  'isbn': '555-123-456',\n",
              "  'available': True}]"
            ]
          },
          "metadata": {},
          "execution_count": 21
        }
      ]
    }
  ]
}